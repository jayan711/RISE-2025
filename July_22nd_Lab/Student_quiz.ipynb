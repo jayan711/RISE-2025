{
 "cells": [
  {
   "cell_type": "markdown",
   "metadata": {},
   "source": [
    "# Exercise 1: E‑commerce Delivery Times"
   ]
  },
  {
   "cell_type": "markdown",
   "metadata": {},
   "source": [
    "An online retailer promises 3‑day shipping. Occasionally, storms delay a few packages. Can you confidently continue advertising that you offer “3 day delivery” given occasional storm delays? To do this, you need to complete three tasks. \n",
    "\n",
    "1) run the below cell to simulate the data\n",
    "\n",
    "2) calculate a log-likelihood estimate where we assume delivery times $~ N(\\mu, \\sigma^2)$ with known $\\sigma = 0.5$ Find the $\\mu$ that maximizes the likelihood of $\\mu$ (note we will be minimizing the log of the likelihood.)\n",
    "\n",
    "3) Calculate a 95% boostrap CI: Resample the 100 observations 2000 times, compute $\\hat{\\mu}$ for each bootstrap sample, and take the 2.5 % and 97.5 % percentiles.\n",
    "\n"
   ]
  },
  {
   "cell_type": "code",
   "execution_count": 21,
   "metadata": {},
   "outputs": [
    {
     "data": {
      "text/plain": [
       "(array([19., 47., 31.,  0.,  0.,  0.,  2.,  0.,  0.,  1.]),\n",
       " array([ 1.60070545,  2.49050217,  3.3802989 ,  4.27009563,  5.15989236,\n",
       "         6.04968909,  6.93948581,  7.82928254,  8.71907927,  9.608876  ,\n",
       "        10.49867272]),\n",
       " <BarContainer object of 10 artists>)"
      ]
     },
     "execution_count": 21,
     "metadata": {},
     "output_type": "execute_result"
    },
    {
     "data": {
      "image/png": "[encoded data removed]",
      "text/plain": [
       "<Figure size 640x480 with 1 Axes>"
      ]
     },
     "metadata": {},
     "output_type": "display_data"
    }
   ],
   "source": [
    "import numpy as np\n",
    "import matplotlib.pyplot as plt\n",
    "np.random.seed(123)\n",
    "# 100 on‑time deliveries ~ N(3 days, 0.5**2)\n",
    "delivery_times = np.random.normal(3.0, 0.5, size=100)\n",
    "# 3 extreme delays\n",
    "delivery_times[:3] += np.array([5.0, 7.0, 4.0])\n",
    "\n",
    "plt.hist(delivery_times)\n"
   ]
  },
  {
   "cell_type": "markdown",
   "metadata": {},
   "source": [
    "### Helpful code:"
   ]
  },
  {
   "cell_type": "code",
   "execution_count": 24,
   "metadata": {},
   "outputs": [
    {
     "name": "stdout",
     "output_type": "stream",
     "text": [
      "Best value of mu:  3.17\n",
      "CI:  2.98 to 3.4\n"
     ]
    }
   ],
   "source": [
    "from scipy import stats\n",
    "\n",
    "# 1. Define neg‐log‐likelihood correctly \n",
    "def neg_log_lik(mu, data):\n",
    "    return -np.sum(stats.norm.logpdf(data, loc=mu, scale=0.5))\n",
    "\n",
    "# 2. Define your grid\n",
    "mu_values = np.linspace(0.0, 6.0, 601)\n",
    "\n",
    "# 3. Compute NLL on full data\n",
    "nlls = [ neg_log_lik(mu, delivery_times) for mu in mu_values ]\n",
    "\n",
    "# your task: find the best value from nlls\n",
    "best_val = mu_values[np.argmin(nlls)]\n",
    "print(\"Best value of mu: \", best_val)\n",
    "\n",
    "# 4. Bootstrap\n",
    "boots = []\n",
    "for _ in range(2000):\n",
    "    sample = np.random.choice(delivery_times, size=100, replace=True)\n",
    "    nlls_bs = [\n",
    "        -np.sum(stats.norm.logpdf(sample, loc=mu, scale=0.5))\n",
    "        for mu in mu_values\n",
    "    ]\n",
    "    boots.append(mu_values[np.argmin(nlls_bs)])\n",
    "\n",
    "# your task: get the 2.5 and 97.5 %ile from boots\n",
    "ci_lower, ci_upper = np.percentile(boots, [2.5, 97.5])\n",
    "print(\"CI: \", ci_lower, \"to\", ci_upper)\n"
   ]
  },
  {
   "cell_type": "markdown",
   "metadata": {},
   "source": [
    "## Questions"
   ]
  },
  {
   "cell_type": "markdown",
   "metadata": {},
   "source": [
    "1) What is $\\hat{\\mu}$? How far is it from 3.0 days, and how did the 3 outliers pull it?\n",
    "\n",
    "2) Does the 95 % CI include 3.0? What does that imply for your “3‑day promise”?\n",
    "\n",
    "3) If you removed the 3 delays, how would μ̂ and the CI change?"
   ]
  },
  {
   "cell_type": "markdown",
   "metadata": {},
   "source": [
    "1. The $\\hat{\\mu}$ is 3.17. It is .17 days from 3.0 days. The outliers increased the mean.\n",
    "2. The 95% CI includes 3.0, so it does imply the \"3-day promise.\"\n",
    "3. The $\\hat{\\mu}$ changes to 3.01 and the CI is shifted from 2.9 to 3.13."
   ]
  },
  {
   "cell_type": "markdown",
   "metadata": {},
   "source": [
    "# Exercise 2: Call‑Center Inter‑arrival Times\n",
    "\n",
    "A support center sees calls arriving with mean gap 5 min. Downtime causes a few very long gaps. Do you currently have enough call agents to keep the average hold‑times below 5 min? To do this you need to complete three tasks:\n",
    "\n",
    "1) run the below cell to simulate the data\n",
    "\n",
    "2) calculate a log-likelihood estimate where we assume call gaps $~ Exp(\\lambda)$. Find the $\\lambda$ that maximizes the likelihood of $\\lambda$ (note we will be minimizing the log of the likelihood.)\n",
    "\n",
    "3) Calculate a 95% boostrap CI: Resample the 200 observations 2000 times, compute $\\hat{\\lambda}$ for each bootstrap sample, and take the 2.5 % and 97.5 % percentiles.\n",
    "\n",
    "\n"
   ]
  },
  {
   "cell_type": "code",
   "execution_count": 4,
   "metadata": {},
   "outputs": [
    {
     "name": "stderr",
     "output_type": "stream",
     "text": [
      "/var/folders/mx/cv_f44qs0m57p0lzjb0p91kh0000gn/T/ipykernel_36319/3102566660.py:15: RuntimeWarning: divide by zero encountered in scalar divide\n",
      "  return -np.sum(stats.expon.logpdf(data, scale=1/lam))\n"
     ]
    },
    {
     "name": "stdout",
     "output_type": "stream",
     "text": [
      "Best value of MLE:  0.18036072144288576\n",
      "CI:  0.142475092164541 to 0.21385464882650537\n"
     ]
    },
    {
     "data": {
      "image/png": "[encoded data removed]",
      "text/plain": [
       "<Figure size 640x480 with 1 Axes>"
      ]
     },
     "metadata": {},
     "output_type": "display_data"
    }
   ],
   "source": [
    "# pseudocode to help \n",
    "import numpy as np\n",
    "from scipy import stats, optimize\n",
    "# 1. MLE (PAUSE HERE WHAT IS THIS FUNCTION DOING BELOW)\n",
    "\n",
    "# Reconstruct the data\n",
    "np.random.seed(42)\n",
    "gaps = np.random.exponential(scale=5.0, size=200)\n",
    "gaps[:5] += np.array([30, 45, 60, 25, 50])\n",
    "\n",
    "plt.hist(gaps)\n",
    "\n",
    "# 1. MLE for λ\n",
    "def neg_log_lik(lam, data):\n",
    "    return -np.sum(stats.expon.logpdf(data, scale=1/lam))\n",
    "\n",
    "# your task: create a grid of values to \"check\" (i.e., linspace like the last problem). Then, find the the best value from nlls\n",
    "lambda_values =  np.linspace(0.0, 10, 500)\n",
    "nlls = [ neg_log_lik(lam, gaps) for lam in lambda_values]\n",
    "\n",
    "best_val = lambda_values[np.argmin(nlls)]\n",
    "print(\"Best value of MLE: \", best_val)\n",
    "\n",
    "# 2. Bootstrap CI\n",
    "boots = []\n",
    "for _ in range(2000):\n",
    "    samp = np.random.choice(gaps, size=200, replace=True)\n",
    "    r = optimize.minimize(lambda l: neg_log_lik(l, samp), x0=0.2, bounds=[(1e-6, None)])\n",
    "    boots.append(r.x[0])\n",
    "\n",
    "# your task: get the 2.5 and 97.5 %ile from boots\n",
    "ci_upper = np.percentile(boots, 97.5)\n",
    "ci_lower = np.percentile(boots, 2.5)\n",
    "print(\"CI: \", ci_lower, \"to\", ci_upper)\n"
   ]
  },
  {
   "cell_type": "markdown",
   "metadata": {},
   "source": [
    "## Questions"
   ]
  },
  {
   "cell_type": "markdown",
   "metadata": {},
   "source": [
    "1) What is the estimated rate $\\hat{\\lambda}$? How does it compare to the true 0.2?\n",
    "\n",
    "2) How robust is $\\hat{\\lambda}$ to the 5 downtimes (i.e., do the 5 downtimes shift the mean at all)?\n",
    "\n",
    "3) Does the CI cover 0.2? What does this mean for staffing predictions?\n",
    "\n",
    "\n",
    "\n",
    "\n",
    "\n"
   ]
  },
  {
   "cell_type": "markdown",
   "metadata": {},
   "source": [
    "1. The estimated rate is 0.18. It is slightly less than the true 0.2. \n",
    "2. Converting the estimated rate to mintues, the estimated rate gives 5.55 (1/0.18) minutes which is slightly greater than the mean gap (5 min). Therefore, the 5 downtimes do shift the mean, but not to a high degree.\n",
    "3. The CI does cover 0.2, but the lower end is 0.14 --> ~7 min which shows that the mean could vary from 5-7 minutes. "
   ]
  },
  {
   "cell_type": "markdown",
   "metadata": {},
   "source": [
    "# Exercise 3: Household Electricity Usage\n"
   ]
  },
  {
   "cell_type": "markdown",
   "metadata": {},
   "source": [
    "Hourly household consumption (kWh) is log‑normally distributed (median ~ 20 kWh); rare equipment failures spike usage. Find the most value for the electricity usage and then construct a confidence interval for them. You've only budgeted to use 20 kWh per hour. "
   ]
  },
  {
   "cell_type": "code",
   "execution_count": 5,
   "metadata": {},
   "outputs": [
    {
     "name": "stdout",
     "output_type": "stream",
     "text": [
      "Best value of median:  20.5\n",
      "CI:  20.09916666666667 to 26.5\n"
     ]
    },
    {
     "data": {
      "image/png": "[encoded data removed]",
      "text/plain": [
       "<Figure size 640x480 with 1 Axes>"
      ]
     },
     "metadata": {},
     "output_type": "display_data"
    }
   ],
   "source": [
    "import numpy as np\n",
    "import matplotlib.pyplot as plt\n",
    "\n",
    "np.random.seed(7)\n",
    "usage = np.random.lognormal(mean=np.log(20), sigma=0.3, size=150)\n",
    "usage[:4] *= np.array([5, 4, 6, 3])\n",
    "\n",
    "plt.hist(usage)\n",
    "\n",
    "def neg_log_lik(med, data):\n",
    "    return -np.sum(stats.lognorm.logpdf(data, s = 0.5, loc = 0, scale = med))\n",
    "                    \n",
    "med_values = np.linspace(10.0, 30.0, 601)\n",
    "\n",
    "nlls = [ neg_log_lik(med, usage) for med in med_values]\n",
    "\n",
    "best_val = med_values[np.argmin(nlls)]\n",
    "print(\"Best value of median: \", best_val)\n",
    "\n",
    "\n",
    "#Construct a confidence interval\n",
    "boots = []\n",
    "for _ in range(2000):\n",
    "    sample = np.random.choice(usage, size = 100, replace = True)\n",
    "    nlls_bs = [\n",
    "        -np.sum(stats.norm.logpdf(sample, loc = med, scale=0.5))\n",
    "        for med in med_values\n",
    "    ]\n",
    "    boots.append(med_values[np.argmin(nlls_bs)])\n",
    "\n",
    "ci_upper = np.percentile(boots, 97.5)\n",
    "ci_lower = np.percentile(boots, 2.5)\n",
    "print(\"CI: \", ci_lower, \"to\", ci_upper)"
   ]
  },
  {
   "cell_type": "markdown",
   "metadata": {},
   "source": [
    "## Questions:"
   ]
  },
  {
   "cell_type": "markdown",
   "metadata": {},
   "source": [
    "1) What is the estimated median usage?\n",
    "\n",
    "2) Would you budget 20 kWh per hour per home confidently or should you budget more?"
   ]
  },
  {
   "cell_type": "markdown",
   "metadata": {},
   "source": [
    "1. The estimated median usage is 20.5 kWh.\n",
    "2. Yes, I would budget 20 kWh per hour per home confidently. Perhaps, I would budget more because it is on the higher end."
   ]
  }
 ],
 "metadata": {
  "kernelspec": {
   "display_name": "assigment-1",
   "language": "python",
   "name": "python3"
  },
  "language_info": {
   "codemirror_mode": {
    "name": "ipython",
    "version": 3
   },
   "file_extension": ".py",
   "mimetype": "text/x-python",
   "name": "python",
   "nbconvert_exporter": "python",
   "pygments_lexer": "ipython3",
   "version": "3.12.3"
  }
 },
 "nbformat": 4,
 "nbformat_minor": 2
}
