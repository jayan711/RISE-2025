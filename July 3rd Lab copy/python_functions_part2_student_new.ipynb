{
  "cells": [
    {
      "cell_type": "markdown",
      "id": "a77a1c94",
      "metadata": {
        "id": "a77a1c94"
      },
      "source": [
        "# Morning Lecture  \n",
        "\n",
        "### Use one of your existing enviornments that isn't base"
      ]
    },
    {
      "cell_type": "markdown",
      "id": "603144eb",
      "metadata": {
        "id": "603144eb"
      },
      "source": [
        "# Functions\n",
        "\n",
        "A **function** packages a reusable computation that can be called from anywhere in your notebook or other Python files.\n"
      ]
    },
    {
      "cell_type": "markdown",
      "id": "968c09b5",
      "metadata": {
        "id": "968c09b5"
      },
      "source": [
        "### 1  Defining a function\n",
        "\n",
        "```python\n",
        "def function_name(param1, param2='default'):\n",
        "    \"\"\"One-sentence summary of what the function does.\n",
        "\n",
        "    Parameters\n",
        "    ----------\n",
        "    param1 : type\n",
        "        Meaning of the parameter.\n",
        "    param2 : type, default 'default'\n",
        "        Optional parameter with a default value.\n",
        "\n",
        "    Returns\n",
        "    -------\n",
        "    something : type\n",
        "        Description of returned value.\n",
        "    \"\"\"\n",
        "    # body\n",
        "    result = do_something(param1, param2)\n",
        "    return result\n",
        "```\n"
      ]
    },
    {
      "cell_type": "code",
      "execution_count": 1,
      "id": "6147a7d5",
      "metadata": {
        "id": "6147a7d5"
      },
      "outputs": [
        {
          "name": "stdout",
          "output_type": "stream",
          "text": [
            "Hello, Jay!\n"
          ]
        }
      ],
      "source": [
        "# Try editing and running this example:\n",
        "\n",
        "# TODO: write a greet function\n",
        "\n",
        "def greet(name, param2 = 'default'):\n",
        "    \"\"\" \n",
        "\n",
        "    Parameters\n",
        "    ----------\n",
        "    name : string\n",
        "        name of the person\n",
        "    param2 : default\n",
        "        Optional parameter with a default value\n",
        "    \n",
        "    Returns\n",
        "    -------\n",
        "    message : string\n",
        "        greeting message\n",
        "    \"\"\"\n",
        "\n",
        "    message = f\"Hello, {name}!\"\n",
        "    return message\n",
        "\n",
        "#Body\n",
        "message = greet(\"Jay\")\n",
        "print(message)\n"
      ]
    },
    {
      "cell_type": "markdown",
      "id": "28337520",
      "metadata": {
        "id": "28337520"
      },
      "source": [
        "### 2  Variable-length arguments  \n",
        "\n",
        "Python lets you accept any number of positional or keyword arguments:\n",
        "\n",
        "```python\n",
        "def describe(*items, **metadata):\n",
        "    print(\"Items:\", items)\n",
        "    print(\"Metadata:\", metadata)\n",
        "```\n"
      ]
    },
    {
      "cell_type": "code",
      "execution_count": 2,
      "id": "3eb37e8d",
      "metadata": {},
      "outputs": [
        {
          "name": "stdout",
          "output_type": "stream",
          "text": [
            "10.0\n",
            "10\n",
            "Adding 1, running total was 0\n",
            "Adding 2, running total was 1\n",
            "Adding 3, running total was 3\n",
            "6\n"
          ]
        }
      ],
      "source": [
        "def total_sum(*numbers, **options):\n",
        "    \"\"\"\n",
        "    Adds up all supplied numbers. \n",
        "    Options:\n",
        "      round_result: bool - whether to round the result to nearest integer\n",
        "      report_out: bool - whether to print intermediate values\n",
        "    \"\"\"\n",
        "    running = 0\n",
        "    for n in numbers:\n",
        "        if options.get('report_out'):\n",
        "            print(f\"Adding {n}, running total was {running}\")\n",
        "        running += n\n",
        "    if options.get('round_result'):\n",
        "        running = round(running)\n",
        "    return running\n",
        "\n",
        "# Examples:\n",
        "print(total_sum(2.5, 3.1, 4.4))  \n",
        "\n",
        "\n",
        "print(total_sum(2.5, 3.1, 4.4, round_result=True))  \n",
        "\n",
        "\n",
        "print(total_sum(1, 2, 3, report_out=True))  \n",
        "\n"
      ]
    },
    {
      "cell_type": "markdown",
      "id": "36ca1185",
      "metadata": {
        "id": "36ca1185"
      },
      "source": [
        "> **Exercise 1 — Fahrenheit → Celsius**  \n",
        "> Write a function `to_celsius(f_temp)` that converts Fahrenheit to Celsius with one line of code and returns the result.  \n",
        "> **Stretch:** Modify it to optionally return Kelvin when `scale='K'`.\n"
      ]
    },
    {
      "cell_type": "code",
      "execution_count": 24,
      "id": "68a72d54",
      "metadata": {
        "id": "68a72d54"
      },
      "outputs": [
        {
          "name": "stdout",
          "output_type": "stream",
          "text": [
            "F to C:  10.0\n",
            "F to K:  283.15\n"
          ]
        }
      ],
      "source": [
        "# YOUR CODE HERE\n",
        "def to_celsius(f_temp, **options):\n",
        "    \"\"\"\n",
        "    Converts Fahrenheit to Celsius\n",
        "    Options: \n",
        "        scale : char - whether to convert Fahrenheit to Kelvin\n",
        "    \"\"\"\n",
        "    celsius = (f_temp - 32) * 5 / 9\n",
        "    \n",
        "    if (options.get(\"scale\") == \"K\"):\n",
        "        return celsius + 273.15\n",
        "    else:\n",
        "        return celsius\n",
        "\n",
        "#Examples:\n",
        "print(\"F to C: \", to_celsius(50))\n",
        "\n",
        "print(\"F to K: \", to_celsius(50, scale = \"K\"))\n"
      ]
    },
    {
      "cell_type": "markdown",
      "id": "5d1bf604",
      "metadata": {
        "id": "5d1bf604"
      },
      "source": [
        "## 4  Using Modules\n",
        "\n",
        "A *module* is a Python file that provides variables, functions, or classes.  \n",
        "We’ll explore the built-in `math` and `random` modules, then import third-party `pandas`.\n"
      ]
    },
    {
      "cell_type": "code",
      "execution_count": 6,
      "id": "4181a324",
      "metadata": {
        "id": "4181a324"
      },
      "outputs": [],
      "source": [
        "# TODO: play with math and random modules (i.e., look up some functions in them)\n"
      ]
    },
    {
      "cell_type": "markdown",
      "id": "a083a259",
      "metadata": {
        "id": "a083a259"
      },
      "source": [
        "## 5  File I/O with CSV\n",
        "\n",
        "CSV (comma-separated values) remains the lingua franca for tabular data.  \n",
        "Two common approaches:\n",
        "\n",
        "1. **`csv` module** - part of the standard library.  \n",
        "2. **`pandas.read_csv`** - more powerful, returns a DataFrame.\n"
      ]
    },
    {
      "cell_type": "code",
      "execution_count": 25,
      "id": "9b08fad8",
      "metadata": {
        "id": "9b08fad8"
      },
      "outputs": [
        {
          "name": "stdout",
          "output_type": "stream",
          "text": [
            "sample_data.csv created with sample rows:\n",
            "      Name  Age  Score\n",
            "0    Alice   25   88.5\n",
            "1      Bob   30   92.0\n",
            "2  Charlie   35   79.5\n",
            "3    Diana   40   85.0\n"
          ]
        }
      ],
      "source": [
        "import pandas as pd\n",
        "\n",
        "# Create a sample DataFrame\n",
        "data = {\n",
        "    \"Name\": [\"Alice\", \"Bob\", \"Charlie\", \"Diana\"],\n",
        "    \"Age\": [25, 30, 35, 40],\n",
        "    \"Score\": [88.5, 92.0, 79.5, 85.0]\n",
        "}\n",
        "df_sample = pd.DataFrame(data)\n",
        "\n",
        "# Save it as a CSV\n",
        "df_sample.to_csv(\"sample_data.csv\", index=False)\n",
        "print(\"sample_data.csv created with sample rows:\")\n",
        "print(df_sample)"
      ]
    },
    {
      "cell_type": "code",
      "execution_count": 27,
      "id": "ed0a3df4",
      "metadata": {
        "id": "ed0a3df4"
      },
      "outputs": [
        {
          "data": {
            "text/html": [
              "<div>\n",
              "<style scoped>\n",
              "    .dataframe tbody tr th:only-of-type {\n",
              "        vertical-align: middle;\n",
              "    }\n",
              "\n",
              "    .dataframe tbody tr th {\n",
              "        vertical-align: top;\n",
              "    }\n",
              "\n",
              "    .dataframe thead th {\n",
              "        text-align: right;\n",
              "    }\n",
              "</style>\n",
              "<table border=\"1\" class=\"dataframe\">\n",
              "  <thead>\n",
              "    <tr style=\"text-align: right;\">\n",
              "      <th></th>\n",
              "      <th>Name</th>\n",
              "      <th>Age</th>\n",
              "      <th>Score</th>\n",
              "    </tr>\n",
              "  </thead>\n",
              "  <tbody>\n",
              "    <tr>\n",
              "      <th>0</th>\n",
              "      <td>Alice</td>\n",
              "      <td>25</td>\n",
              "      <td>88.5</td>\n",
              "    </tr>\n",
              "    <tr>\n",
              "      <th>1</th>\n",
              "      <td>Bob</td>\n",
              "      <td>30</td>\n",
              "      <td>92.0</td>\n",
              "    </tr>\n",
              "    <tr>\n",
              "      <th>2</th>\n",
              "      <td>Charlie</td>\n",
              "      <td>35</td>\n",
              "      <td>79.5</td>\n",
              "    </tr>\n",
              "    <tr>\n",
              "      <th>3</th>\n",
              "      <td>Diana</td>\n",
              "      <td>40</td>\n",
              "      <td>85.0</td>\n",
              "    </tr>\n",
              "  </tbody>\n",
              "</table>\n",
              "</div>"
            ],
            "text/plain": [
              "      Name  Age  Score\n",
              "0    Alice   25   88.5\n",
              "1      Bob   30   92.0\n",
              "2  Charlie   35   79.5\n",
              "3    Diana   40   85.0"
            ]
          },
          "execution_count": 27,
          "metadata": {},
          "output_type": "execute_result"
        }
      ],
      "source": [
        "# TODO: read the provided sample_data.csv\n",
        "import pandas as pd\n",
        "\n",
        "df = pd.read_csv(\"sample_data.csv\")\n",
        "\n",
        "df"
      ]
    },
    {
      "cell_type": "markdown",
      "id": "e8977c19",
      "metadata": {
        "id": "e8977c19"
      },
      "source": [
        "> **Exercise 2 — Random Walk Logger**  \n",
        "> 1. Simulate 100 steps of a 1-D random walk (`+1` or `-1` per step).  \n",
        "> 2. Store cumulative positions in a Python list.  \n",
        "> - Save the result to `random_walk.csv` with two columns: `step`, `position`.  \n",
        "> 4. Reload the CSV with `pandas` and plot the walk (hint: `df.plot.line()`).\n"
      ]
    },
    {
      "cell_type": "code",
      "execution_count": 11,
      "id": "25af9acf",
      "metadata": {
        "id": "25af9acf"
      },
      "outputs": [
        {
          "data": {
            "text/plain": [
              "<Axes: >"
            ]
          },
          "execution_count": 11,
          "metadata": {},
          "output_type": "execute_result"
        },
        {
          "data": {
            "image/png": "[encoded data removed]",
            "text/plain": [
              "<Figure size 640x480 with 1 Axes>"
            ]
          },
          "metadata": {},
          "output_type": "display_data"
        }
      ],
      "source": [
        "# YOUR CODE HERE\n",
        "import random\n",
        "import pandas as pd\n",
        "\n",
        "step = [1]\n",
        "position = [0]\n",
        "\n",
        "for i in range(99):\n",
        "    step.append(i + 2)\n",
        "    direction = random.choice([1, -1])\n",
        "    position.append(position[i] + direction)\n",
        "\n",
        "data = {\n",
        "    \"Steps\" : step,\n",
        "    \"Position\" : position \n",
        "}\n",
        "\n",
        "df_sample = pd.DataFrame(data)\n",
        "df_sample.to_csv(\"random_walk.csv\", index = False)\n",
        "\n",
        "df = pd.read_csv(\"random_walk.csv\")\n",
        "df[\"Position\"].plot.line()\n",
        "\n"
      ]
    }
  ],
  "metadata": {
    "colab": {
      "provenance": []
    },
    "kernelspec": {
      "display_name": "july_2_environment",
      "language": "python",
      "name": "python3"
    },
    "language_info": {
      "codemirror_mode": {
        "name": "ipython",
        "version": 3
      },
      "file_extension": ".py",
      "mimetype": "text/x-python",
      "name": "python",
      "nbconvert_exporter": "python",
      "pygments_lexer": "ipython3",
      "version": "3.12.3"
    }
  },
  "nbformat": 4,
  "nbformat_minor": 5
}
