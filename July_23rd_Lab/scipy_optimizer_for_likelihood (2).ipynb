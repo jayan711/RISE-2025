{
 "cells": [
  {
   "cell_type": "markdown",
   "metadata": {},
   "source": [
    "## Setup & Data\n",
    "\n",
    "We’ll simulate 100 observations from a Normal(μ=5, σ²=4) and import what we need.\n"
   ]
  },
  {
   "cell_type": "code",
   "execution_count": 1,
   "metadata": {},
   "outputs": [
    {
     "data": {
      "text/plain": [
       "(array([ 1.,  5.,  7., 13., 17., 18., 16., 11.,  7.,  5.]),\n",
       " array([-0.10597963,  0.85856926,  1.82311814,  2.78766703,  3.75221592,\n",
       "         4.71676481,  5.6813137 ,  6.64586258,  7.61041147,  8.57496036,\n",
       "         9.53950925]),\n",
       " <BarContainer object of 10 artists>)"
      ]
     },
     "execution_count": 1,
     "metadata": {},
     "output_type": "execute_result"
    },
    {
     "data": {
      "image/png": "[encoded data removed]",
      "text/plain": [
       "<Figure size 640x480 with 1 Axes>"
      ]
     },
     "metadata": {},
     "output_type": "display_data"
    }
   ],
   "source": [
    "import numpy as np\n",
    "from scipy import stats, optimize\n",
    "import matplotlib.pyplot as plt \n",
    "\n",
    "# Simulate data\n",
    "np.random.seed(0)\n",
    "data = np.random.normal(loc=5.0, scale=2.0, size=100)\n",
    "\n",
    "plt.hist(data)\n"
   ]
  },
  {
   "cell_type": "markdown",
   "metadata": {},
   "source": [
    "## MLE via SciPy Optimize\n",
    "\n",
    "Define the negative log‐likelihood for μ and σ (we parametrize via log σ for positivity). We can optimize. \n"
   ]
  },
  {
   "cell_type": "code",
   "execution_count": 2,
   "metadata": {},
   "outputs": [],
   "source": [
    "# Negative log-likelihood for Normal\n",
    "def neg_log_lik(params, x):\n",
    "    mu, log_sigma = params\n",
    "    sigma = np.exp(log_sigma)\n",
    "    # sum of −log pdf = negative log-likelihood\n",
    "    return -np.sum(stats.norm.logpdf(x, loc=mu, scale=sigma))"
   ]
  },
  {
   "cell_type": "code",
   "execution_count": 3,
   "metadata": {},
   "outputs": [
    {
     "name": "stdout",
     "output_type": "stream",
     "text": [
      "MLE estimates:\n",
      "  mu_hat    = 5.11961603106897\n",
      "  sigma_hat = 2.0157644894331592\n"
     ]
    }
   ],
   "source": [
    "# Initial guesses: sample mean & log(sample std)\n",
    "mu0 = np.mean(data)\n",
    "log_sigma0 = np.log(np.std(data, ddof=0)) #(ddof is because we need the population MLE, not the unbiased sample estimator which is N-1 don't worry about this)\n",
    "init = [mu0, log_sigma0]\n",
    "\n",
    "# Optimize\n",
    "res = optimize.minimize(\n",
    "    neg_log_lik,\n",
    "    x0=init,\n",
    "    args=(data,),\n",
    "    method='L-BFGS-B'\n",
    ")\n",
    "\n",
    "mu_hat, sigma_hat = res.x[0], np.exp(res.x[1])\n",
    "print(\"MLE estimates:\")\n",
    "print(\"  mu_hat    =\", mu_hat)\n",
    "print(\"  sigma_hat =\", sigma_hat)\n"
   ]
  },
  {
   "cell_type": "markdown",
   "metadata": {},
   "source": [
    "## Bootstrap Confidence Intervals\n",
    "\n",
    "Resample the data **with replacement**, refit each bootstrap sample, and then take the 2.5th and 97.5th percentiles of the bootstrap estimates.\n"
   ]
  },
  {
   "cell_type": "code",
   "execution_count": 4,
   "metadata": {},
   "outputs": [
    {
     "name": "stdout",
     "output_type": "stream",
     "text": [
      "95% CI for μ: [4.723, 5.524]\n",
      "95% CI for sigma: [1.740, 2.251]\n"
     ]
    }
   ],
   "source": [
    "n_boot = 2000\n",
    "mu_boots = []\n",
    "sigma_boots = []\n",
    "\n",
    "for i in range(n_boot):\n",
    "    # resample\n",
    "    samp = np.random.choice(data, size=len(data), replace=True)\n",
    "    # fit\n",
    "    res_i = optimize.minimize(\n",
    "        neg_log_lik,\n",
    "        x0=init,\n",
    "        args=(samp,),\n",
    "        method='L-BFGS-B'\n",
    "    )\n",
    "    mu_i, log_sig_i = res_i.x\n",
    "    mu_boots.append(mu_i)\n",
    "    sigma_boots.append(np.exp(log_sig_i))\n",
    "\n",
    "# Compute percentile CIs\n",
    "alpha = 0.05\n",
    "lower_mu  = np.percentile(mu_boots, 100 * (alpha/2))\n",
    "upper_mu  = np.percentile(mu_boots, 100 * (1 - alpha/2))\n",
    "lower_sig = np.percentile(sigma_boots, 100 * (alpha/2))\n",
    "upper_sig = np.percentile(sigma_boots, 100 * (1 - alpha/2))\n",
    "\n",
    "print(f\"95% CI for μ: [{lower_mu:.3f}, {upper_mu:.3f}]\")\n",
    "print(f\"95% CI for sigma: [{lower_sig:.3f}, {upper_sig:.3f}]\")\n"
   ]
  },
  {
   "cell_type": "code",
   "execution_count": null,
   "metadata": {},
   "outputs": [],
   "source": []
  },
  {
   "cell_type": "code",
   "execution_count": null,
   "metadata": {},
   "outputs": [],
   "source": []
  }
 ],
 "metadata": {
  "kernelspec": {
   "display_name": "assigment-1",
   "language": "python",
   "name": "python3"
  },
  "language_info": {
   "codemirror_mode": {
    "name": "ipython",
    "version": 3
   },
   "file_extension": ".py",
   "mimetype": "text/x-python",
   "name": "python",
   "nbconvert_exporter": "python",
   "pygments_lexer": "ipython3",
   "version": "3.12.3"
  }
 },
 "nbformat": 4,
 "nbformat_minor": 2
}
